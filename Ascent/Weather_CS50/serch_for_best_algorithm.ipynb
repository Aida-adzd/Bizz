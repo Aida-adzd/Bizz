{
 "cells": [
  {
   "cell_type": "markdown",
   "id": "9d59a116",
   "metadata": {},
   "source": [
    "# Code Analysis and Libraries\n",
    "---\n",
    "\n",
    "To start our analysis, we need to import several libraries that will be used throughout the code. The following libraries are imported:\n",
    "\n",
    ">- **pandas**: A library for data manipulation and analysis.\n",
    ">- **seaborn**: A data visualization library based on matplotlib.\n",
    ">- **matplotlib.pyplot**: A plotting library for creating visualizations\n",
    ">- **sklearn**: A comprehensive machine learning library."
   ]
  },
  {
   "cell_type": "code",
   "execution_count": 1,
   "id": "3b9b41d3",
   "metadata": {},
   "outputs": [],
   "source": [
    "import pandas as pd\n",
    "import seaborn as sns\n",
    "import matplotlib.pyplot as plt\n",
    "\n",
    "from sklearn.naive_bayes import GaussianNB\n",
    "from sklearn.metrics import accuracy_score\n",
    "from sklearn.preprocessing import StandardScaler\n",
    "from sklearn.tree import DecisionTreeClassifier\n",
    "from sklearn.svm import LinearSVC , SVC\n",
    "from sklearn.neural_network import MLPClassifier\n",
    "from sklearn.model_selection import train_test_split\n",
    "from sklearn.ensemble import RandomForestClassifier , GradientBoostingClassifier\n",
    "from sklearn.linear_model import LogisticRegression\n",
    "from sklearn.neighbors import KNeighborsClassifier\n",
    "from sklearn.ensemble import RandomForestRegressor"
   ]
  },
  {
   "cell_type": "markdown",
   "id": "35a00cc6",
   "metadata": {},
   "source": [
    "# Data Loading and Preprocessing\n",
    "---\n",
    "To begin our analysis, we need to load the training and testing data from CSV files and perform some preprocessing steps. The process involves the following steps:\n",
    "\n",
    "1. Load the training CSV file.\n",
    "2. Split the training data into input features (X) and target variable (y).\n",
    "3. Preprocess the input features by performing necessary transformations.\n",
    "4. Load the testing CSV file.\n",
    "5. Split the testing data into input features (X_test) and target variable (y_test).\n",
    "6. Preprocess the input features for the testing data.\n",
    "\n",
    "## Load the Training Data\n",
    "\n",
    ">The training data is loaded from the 'train.csv' file. This file contains the data needed for training our model.\n",
    "\n"
   ]
  },
  {
   "cell_type": "code",
   "execution_count": 2,
   "id": "dfe458e0",
   "metadata": {},
   "outputs": [],
   "source": [
    "data = pd.read_csv('train.csv').dropna()"
   ]
  },
  {
   "cell_type": "markdown",
   "id": "532c5bbb",
   "metadata": {},
   "source": [
    "## Split the Training Data and Preprocess the Input Features\n",
    "---\n",
    ">The training data is split into input features (X) and the corresponding target variable (y). The input features contain all columns except the 'weather' column, which is our target variable.\n",
    "\n",
    ">Some preprocessing steps are applied to the input features before using them for analysis. In this case, the 'date' column is preprocessed by removing slashes (\"/\") and converting the values to float.\n"
   ]
  },
  {
   "cell_type": "code",
   "execution_count": 19,
   "id": "ea7a1fda",
   "metadata": {},
   "outputs": [
    {
     "name": "stdout",
     "output_type": "stream",
     "text": [
      "        date  precipitation  temp_max  temp_min  wind\n",
      "0  4142015.0            3.3      11.7       2.8   3.3\n",
      "1  4152015.0            0.0      13.9       3.3   2.4\n",
      "2  4162015.0            0.0      17.8       3.9   3.1\n",
      "3  4172015.0            0.0      18.9       6.1   3.6\n",
      "4  4182015.0            0.0      18.9       8.3   3.9\n",
      "============================================================\n"
     ]
    },
    {
     "data": {
      "text/plain": [
       "0    rain\n",
       "1     sun\n",
       "2     sun\n",
       "3     sun\n",
       "4     sun\n",
       "Name: weather, dtype: object"
      ]
     },
     "execution_count": 19,
     "metadata": {},
     "output_type": "execute_result"
    }
   ],
   "source": [
    "X = data.drop('weather', axis=1) \n",
    "\n",
    "X[\"date\"] = X[\"date\"].str.replace(\"/\", \"\").astype(float)\n",
    "\n",
    "y = data['weather']  \n",
    "print(X.head())\n",
    "print('='*60)\n",
    "y.head()"
   ]
  },
  {
   "cell_type": "markdown",
   "id": "a3e4a1c5",
   "metadata": {},
   "source": [
    "## Load the Testing Data\n",
    "---\n",
    "\n",
    ">The testing data is loaded from the 'test.csv' file. This file contains the data we will use to evaluate the performance of our trained model."
   ]
  },
  {
   "cell_type": "code",
   "execution_count": 4,
   "id": "2dc3618b",
   "metadata": {},
   "outputs": [],
   "source": [
    "data = pd.read_csv('test.csv').dropna()"
   ]
  },
  {
   "cell_type": "markdown",
   "id": "ae33dcd3",
   "metadata": {},
   "source": [
    "## Split the Testing Data Preprocess the Input Features\n",
    "---\n",
    "\n",
    ">The testing data is split into input features (X_test) and the corresponding target variable (y_test). Similar to the training data, the input features for testing do not include the 'weather' column.\n",
    "\n",
    ">Similar to the preprocessing steps for the training data, the input features for testing undergo the same preprocessing steps. This ensures consistency in the data representation."
   ]
  },
  {
   "cell_type": "code",
   "execution_count": 5,
   "id": "25732d1e",
   "metadata": {},
   "outputs": [],
   "source": [
    "X_test = data.drop('weather', axis=1)\n",
    "\n",
    "X_test[\"date\"] = X_test[\"date\"].str.replace(\"/\", \"\").astype(float)\n",
    "\n",
    "y_test = data['weather']"
   ]
  },
  {
   "cell_type": "markdown",
   "id": "6be3db6e",
   "metadata": {},
   "source": [
    "# Model Training and Evaluation\n",
    "---\n",
    "**To train and evaluate the model, we follow these steps:**\n",
    "\n",
    ">1. Create a Gradient Boosting Classifier model.\n",
    ">2. Train the model on the training data (X, y).\n",
    ">3. Split the testing data into input features (X_test2) and target variable (y_test2).\n",
    ">4. Retrain the model on the new training data (X_train, y_train).\n",
    ">5. Make predictions on the testing data (X_test2).\n",
    ">6. Evaluate the model's performance by calculating the accuracy of the predictions."
   ]
  },
  {
   "cell_type": "code",
   "execution_count": 6,
   "id": "baec8936",
   "metadata": {},
   "outputs": [
    {
     "name": "stdout",
     "output_type": "stream",
     "text": [
      "Accuracy: 0.9024390243902439\n"
     ]
    }
   ],
   "source": [
    "model = GradientBoostingClassifier()\n",
    "\n",
    "\n",
    "model.fit(X, y) \n",
    "\n",
    "\n",
    "X_train, X_test2, y_train, y_test2 = train_test_split(X_test, y_test, test_size=0.2, random_state=42)\n",
    "\n",
    "model.fit(X_train, y_train)\n",
    "\n",
    "y_pred = model.predict(X_test2)\n",
    "\n",
    "accuracy = accuracy_score(y_test2, y_pred)\n",
    "\n",
    "print(\"Accuracy:\", accuracy) \n"
   ]
  },
  {
   "cell_type": "markdown",
   "id": "f687c541",
   "metadata": {},
   "source": [
    "# Classifier Comparison\n",
    "---\n",
    "\n",
    ">In this section, we compare the performance of various classifiers using accuracy as the evaluation metric. We create a list of classifiers and analyze their accuracy scores.\n",
    "\n",
    "## Classifiers\n",
    "\n",
    "**The following classifiers are included in the comparison:**\n",
    "\n",
    ">- Logistic Regression\n",
    ">- Multilayer Perceptron\n",
    ">- Gradient Boosting\n",
    ">- Support Vector Classifier\n",
    ">- Random Forest\n",
    ">- Decision Tree\n",
    ">- Another Multilayer Perceptron\n",
    ">- K-Nearest Neighbors\n",
    "\n",
    "## Results\n",
    "\n",
    "We store the results in a DataFrame called **\"log\"** with the following columns:\n",
    "\n",
    "- **Classifier**: The name of the classifier\n",
    "- **Accuracy**: The accuracy score of the classifier\n",
    "\n"
   ]
  },
  {
   "cell_type": "code",
   "execution_count": 7,
   "id": "3159c567",
   "metadata": {},
   "outputs": [],
   "source": [
    "\n",
    "classifiers = [\n",
    "    LogisticRegression(), \n",
    "    MLPClassifier(),  \n",
    "    GradientBoostingClassifier(),  \n",
    "    SVC(),  \n",
    "    RandomForestClassifier(),  \n",
    "    DecisionTreeClassifier(), \n",
    "    MLPClassifier(),  \n",
    "    KNeighborsClassifier() \n",
    "]\n",
    "\n",
    "log_cols = [\"Classifier\", \"Accuracy\"]\n",
    "\n",
    "log = pd.DataFrame(columns=log_cols)"
   ]
  },
  {
   "cell_type": "markdown",
   "id": "be1ead8e",
   "metadata": {},
   "source": [
    "# Classifier Comparison and Results\n",
    "----\n",
    "\n",
    "> In this section, we iterate over each classifier in the list and evaluate their performance on the testing data.\n",
    "\n",
    "## Evaluation\n",
    "\n",
    ">We evaluate the performance of each classifier in terms of accuracy. For each classifier, we perform the following steps:\n",
    "\n",
    "| Classifier                 | Accuracy   |\n",
    "|----------------------------|------------|\n",
    "| LogisticRegression         | 22.8856%   |\n",
    "| MLPClassifier              | 61.1940%   |\n",
    "| GradientBoostingClassifier | 85.0746%   |\n",
    "| SVC                        | 49.7512%   |\n",
    "| RandomForestClassifier     | 84.0796%   |\n",
    "| DecisionTreeClassifier     | 80.0995%   |\n",
    "| MLPClassifier              | 22.8856%   |\n",
    "| KNeighborsClassifier       | 51.7413%   |\n",
    "\n",
    "## Results\n",
    "\n",
    "**We store the results in a DataFrame called \"log\" with the following columns:**\n",
    "\n",
    ">- Classifier: The name of the classifier.\n",
    ">- Accuracy: The accuracy score of the classifier."
   ]
  },
  {
   "cell_type": "code",
   "execution_count": 8,
   "id": "44388fa2",
   "metadata": {},
   "outputs": [
    {
     "name": "stdout",
     "output_type": "stream",
     "text": [
      "==============================\n",
      "LogisticRegression\n",
      "****Results****\n",
      "Accuracy: 22.8856%\n",
      "==============================\n",
      "MLPClassifier\n",
      "****Results****\n",
      "Accuracy: 61.1940%\n",
      "==============================\n",
      "GradientBoostingClassifier\n",
      "****Results****\n",
      "Accuracy: 84.5771%\n",
      "==============================\n",
      "SVC\n",
      "****Results****\n",
      "Accuracy: 49.7512%\n",
      "==============================\n",
      "RandomForestClassifier\n",
      "****Results****\n",
      "Accuracy: 83.5821%\n",
      "==============================\n",
      "DecisionTreeClassifier\n",
      "****Results****\n",
      "Accuracy: 79.1045%\n",
      "==============================\n",
      "MLPClassifier\n",
      "****Results****\n",
      "Accuracy: 22.8856%\n",
      "==============================\n",
      "KNeighborsClassifier\n",
      "****Results****\n",
      "Accuracy: 51.7413%\n",
      "==============================\n"
     ]
    }
   ],
   "source": [
    "for clf in classifiers:\n",
    "    print(\"=\"*30)\n",
    "    name = clf.__class__.__name__\n",
    "    print(name)\n",
    "    \n",
    "    clf.fit(X, y)\n",
    "    \n",
    "    print('****Results****')\n",
    "\n",
    "    train_predictions = clf.predict(X_test)\n",
    "\n",
    "    acc = accuracy_score(y_test, train_predictions)\n",
    "    print(\"Accuracy: {:.4%}\".format(acc))\n",
    "\n",
    "    log_entry = pd.DataFrame([[name, acc*100]], columns=log_cols)\n",
    "\n",
    "    log = pd.concat([log, log_entry])\n",
    "    \n",
    "print(\"=\"*30)\n"
   ]
  },
  {
   "cell_type": "markdown",
   "id": "717faee4",
   "metadata": {},
   "source": [
    "# Visualization of Classifier Accuracy\n",
    "\n",
    "In this section, we create a bar plot to visualize the accuracy scores of the classifiers.\n",
    "\n",
    "---\n",
    "\n",
    "## Plotting\n",
    "\n",
    "We use a bar plot to represent the accuracy percentages of each classifier. The x-axis represents the accuracy, and the y-axis represents the classifier names.\n",
    "\n",
    "### Bar Plot\n",
    "\n",
    "We create a bar plot to visualize the accuracy scores:\n",
    "\n",
    "\n",
    "![Classifier Accuracy](bar_plot.png)\n",
    "\n"
   ]
  },
  {
   "cell_type": "code",
   "execution_count": 9,
   "id": "bde396fb",
   "metadata": {},
   "outputs": [
    {
     "data": {
      "image/png": "[encoded data removed]",
      "text/plain": [
       "<Figure size 640x480 with 1 Axes>"
      ]
     },
     "metadata": {},
     "output_type": "display_data"
    }
   ],
   "source": [
    "sns.set_color_codes(\"muted\")\n",
    "\n",
    "sns.barplot(x='Accuracy', y='Classifier', data=log, color=\"b\")\n",
    "\n",
    "plt.xlabel('Accuracy %')\n",
    "\n",
    "plt.title('Classifier Accuracy')\n",
    "\n",
    "plt.show()\n"
   ]
  }
 ],
 "metadata": {
  "kernelspec": {
   "display_name": "Python 3 (ipykernel)",
   "language": "python",
   "name": "python3"
  },
  "language_info": {
   "codemirror_mode": {
    "name": "ipython",
    "version": 3
   },
   "file_extension": ".py",
   "mimetype": "text/x-python",
   "name": "python",
   "nbconvert_exporter": "python",
   "pygments_lexer": "ipython3",
   "version": "3.11.3"
  }
 },
 "nbformat": 4,
 "nbformat_minor": 5
}
