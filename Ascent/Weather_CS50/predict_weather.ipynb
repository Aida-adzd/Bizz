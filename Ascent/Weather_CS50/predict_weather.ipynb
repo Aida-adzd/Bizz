{
 "cells": [
  {
   "cell_type": "markdown",
   "id": "21d90b92",
   "metadata": {},
   "source": [
    "# Prediction for final_test\n",
    "In this section, we take the input information and use the appropriate machine that we tested in the previous section, we train it and predict the information.\n",
    "## Data Loading and Preprocessing\n",
    "---\n",
    "In this section, we load the training and testing data from CSV files and perform some preprocessing steps.\n",
    "\n",
    "### Load Train Data for Training\n",
    "---\n",
    "**We load the training data from the 'train.csv' file and remove any rows with missing values.**\n",
    "\n",
    "- Load the training CSV and test CSV file.\n",
    "- Remove rows with missing values.\n",
    "\n",
    "**Next, we split the training data into input features (X) and the target variable (y).**\n",
    "\n",
    ">- Drop the 'weather' column from the input features.\n",
    ">- Preprocess the 'date' column by removing slashes and converting to float.\n",
    "\n",
    "\n",
    "Load the testing CSV file. and do it same thing like Training\n"
   ]
  },
  {
   "cell_type": "code",
   "execution_count": 1,
   "id": "fe4af1a3",
   "metadata": {},
   "outputs": [],
   "source": [
    "import pandas as pd\n",
    "\n",
    "data = pd.read_csv('train.csv').dropna()\n",
    "data2 = pd.read_csv('test.csv').dropna()\n",
    "\n",
    "data = pd.concat([data, data2])\n",
    "\n",
    "data.reset_index(drop=True, inplace=True)\n",
    "\n",
    "X = data.drop('weather', axis=1)\n",
    "X['date'] = pd.to_datetime(X['date'], format='%m/%d/%Y')\n",
    "X['date'] = X['date'].dt.strftime('%Y%m%d').astype(float)\n",
    "X= X.sort_values('date')\n",
    "\n",
    "y = data['weather']\n"
   ]
  },
  {
   "cell_type": "markdown",
   "id": "f04cf93a",
   "metadata": {},
   "source": [
    "# Data Loading and Preprocessing\n",
    "---\n",
    "\n",
    "**In this section, we load the training data from the 'final_test.csv' file and perform some preprocessing steps.**\n",
    "\n",
    "## Load Training Data\n",
    "\n",
    "We load the training data from the CSV file and remove any rows with missing values.\n",
    "\n",
    ">- Load the training CSV file.\n",
    ">- Remove rows with missing values.\n",
    ">- Preprocess the 'date' column by removing slashes and converting it to float.\n",
    "\n"
   ]
  },
  {
   "cell_type": "code",
   "execution_count": 5,
   "id": "7b11a64f",
   "metadata": {},
   "outputs": [],
   "source": [
    "# Load the training CSV file\n",
    "infotmation = pd.read_csv('final_test.csv').dropna()\n",
    "\n",
    "infotmation['date'] = pd.to_datetime(infotmation['date'], format='%m/%d/%Y')\n",
    "infotmation['date'] = infotmation['date'].dt.strftime('%Y%m%d').astype(float)\n"
   ]
  },
  {
   "cell_type": "markdown",
   "id": "85aeb820",
   "metadata": {},
   "source": [
    "# Model Training and Prediction\n",
    "\n",
    "In this section, we use the Gradient Boosting Classifier from the scikit-learn library to train the model on the training data and make predictions on the testing data.\n",
    "\n",
    "## Model Training\n",
    "\n",
    "We initialize a Gradient Boosting Classifier model and train it on the training data.\n",
    "\n",
    "- Initialize a Gradient Boosting Classifier model.\n",
    "- Fit the model to the training data.\n",
    "\n",
    "## Model Retraining\n",
    "\n",
    "We retrain the model on the new training data.\n",
    "\n",
    "- Retrain the model using the testing data.\n",
    "\n",
    "## Prediction\n",
    "\n",
    "We make predictions on the testing data using the trained model.\n",
    "\n",
    "- Make predictions on the testing data.\n",
    "\n",
    "## Save Predictions\n",
    "\n",
    "We save the predictions to a CSV file called 'list.csv'.\n",
    "\n",
    "- Create a DataFrame with the predicted values.\n",
    "- Save the DataFrame to a CSV file.\n",
    "\n",
    "Feel free to modify and expand upon the Markdown document based on your specific requirements.\n"
   ]
  },
  {
   "cell_type": "code",
   "execution_count": 6,
   "id": "9a845e1c",
   "metadata": {},
   "outputs": [],
   "source": [
    "from sklearn.ensemble import RandomForestClassifier , GradientBoostingClassifier\n",
    "model = GradientBoostingClassifier()\n",
    "\n",
    "model.fit(X, y)\n",
    "\n",
    "# Make predictions on the testing data\n",
    "y_pred = model.predict(infotmation)\n",
    "\n",
    "df = pd.DataFrame(y_pred, columns=[\"weather\"])\n",
    "\n",
    "df.to_csv('list.csv', index=False)\n",
    "# df.head()"
   ]
  },
  {
   "cell_type": "code",
   "execution_count": null,
   "id": "a5440900",
   "metadata": {},
   "outputs": [],
   "source": []
  }
 ],
 "metadata": {
  "kernelspec": {
   "display_name": "Python 3 (ipykernel)",
   "language": "python",
   "name": "python3"
  },
  "language_info": {
   "codemirror_mode": {
    "name": "ipython",
    "version": 3
   },
   "file_extension": ".py",
   "mimetype": "text/x-python",
   "name": "python",
   "nbconvert_exporter": "python",
   "pygments_lexer": "ipython3",
   "version": "3.11.3"
  }
 },
 "nbformat": 4,
 "nbformat_minor": 5
}
